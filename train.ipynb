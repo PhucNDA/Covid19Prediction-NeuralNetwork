{
 "cells": [
  {
   "cell_type": "code",
   "execution_count": 1,
   "metadata": {},
   "outputs": [
    {
     "name": "stderr",
     "output_type": "stream",
     "text": [
      "d:\\Programming Languages Package\\Python\\Python 3.10.1\\lib\\site-packages\\tqdm\\auto.py:22: TqdmWarning: IProgress not found. Please update jupyter and ipywidgets. See https://ipywidgets.readthedocs.io/en/stable/user_install.html\n",
      "  from .autonotebook import tqdm as notebook_tqdm\n"
     ]
    }
   ],
   "source": [
    "import torch\n",
    "import torch.nn as nn\n",
    "import torchvision\n",
    "import torchvision.transforms as transforms\n",
    "import matplotlib.pyplot as plt\n",
    "import numpy as np\n",
    "from sklearn.metrics import f1_score, precision_score, recall_score\n",
    "\n",
    "from datasetcovid import CovidDataset\n",
    "from feedforwardnet import NeuralNetwork, NoRELU, TanhNet"
   ]
  },
  {
   "attachments": {},
   "cell_type": "markdown",
   "metadata": {},
   "source": [
    "# Training Parameter"
   ]
  },
  {
   "cell_type": "code",
   "execution_count": 3,
   "metadata": {},
   "outputs": [],
   "source": [
    "#device config\n",
    "device=torch.device('cuda' if torch.cuda.is_available() else 'cpu')\n",
    "\n",
    "#hyper params\n",
    "input_size= 18\n",
    "hidden_size= 16\n",
    "num_epochs= 3\n",
    "batch_size= 256\n",
    "learning_rate= 0.001"
   ]
  },
  {
   "attachments": {},
   "cell_type": "markdown",
   "metadata": {},
   "source": [
    "# Dataset Loader"
   ]
  },
  {
   "cell_type": "code",
   "execution_count": 4,
   "metadata": {},
   "outputs": [],
   "source": [
    "train_dataset=CovidDataset('lan1/train.csv')\n",
    "test_dataset=CovidDataset('lan1/test.csv')"
   ]
  },
  {
   "cell_type": "code",
   "execution_count": 5,
   "metadata": {},
   "outputs": [],
   "source": [
    "train_loader=torch.utils.data.DataLoader(dataset=train_dataset,batch_size=batch_size,shuffle=False)\n",
    "test_loader=torch.utils.data.DataLoader(dataset=test_dataset,batch_size=batch_size,shuffle=False)"
   ]
  },
  {
   "cell_type": "code",
   "execution_count": 13,
   "metadata": {},
   "outputs": [],
   "source": [
    "model=TanhNet(input_size,hidden_size)\n",
    "\n",
    "#loss and optimizer\n",
    "criterion=nn.BCELoss()\n",
    "optimizer=torch.optim.Adam(model.parameters(),lr=learning_rate)"
   ]
  },
  {
   "attachments": {},
   "cell_type": "markdown",
   "metadata": {},
   "source": [
    "# Training "
   ]
  },
  {
   "cell_type": "code",
   "execution_count": 14,
   "metadata": {},
   "outputs": [
    {
     "name": "stdout",
     "output_type": "stream",
     "text": [
      "Epoch  0 ..Iter:  0 / 2795  LOSS:  2.0678021907806396\n",
      "Epoch  0 ..Iter:  100 / 2795  LOSS:  0.32596608996391296\n",
      "Epoch  0 ..Iter:  200 / 2795  LOSS:  0.31867533922195435\n",
      "Epoch  0 ..Iter:  300 / 2795  LOSS:  0.25613945722579956\n",
      "Epoch  0 ..Iter:  400 / 2795  LOSS:  0.21037307381629944\n",
      "Epoch  0 ..Iter:  500 / 2795  LOSS:  0.23672939836978912\n",
      "Epoch  0 ..Iter:  600 / 2795  LOSS:  0.2597908079624176\n",
      "Epoch  0 ..Iter:  700 / 2795  LOSS:  0.26286768913269043\n",
      "Epoch  0 ..Iter:  800 / 2795  LOSS:  0.20493176579475403\n",
      "Epoch  0 ..Iter:  900 / 2795  LOSS:  0.3209874927997589\n",
      "Epoch  0 ..Iter:  1000 / 2795  LOSS:  0.2820490002632141\n",
      "Epoch  0 ..Iter:  1100 / 2795  LOSS:  0.20729400217533112\n",
      "Epoch  0 ..Iter:  1200 / 2795  LOSS:  0.25741785764694214\n",
      "Epoch  0 ..Iter:  1300 / 2795  LOSS:  0.16422303020954132\n",
      "Epoch  0 ..Iter:  1400 / 2795  LOSS:  0.2390008419752121\n",
      "Epoch  0 ..Iter:  1500 / 2795  LOSS:  0.1957041472196579\n",
      "Epoch  0 ..Iter:  1600 / 2795  LOSS:  0.21854354441165924\n",
      "Epoch  0 ..Iter:  1700 / 2795  LOSS:  0.2735328674316406\n",
      "Epoch  0 ..Iter:  1800 / 2795  LOSS:  0.20277976989746094\n",
      "Epoch  0 ..Iter:  1900 / 2795  LOSS:  0.3070293366909027\n",
      "Epoch  0 ..Iter:  2000 / 2795  LOSS:  0.23939479887485504\n",
      "Epoch  0 ..Iter:  2100 / 2795  LOSS:  0.2083655148744583\n",
      "Epoch  0 ..Iter:  2200 / 2795  LOSS:  0.17776831984519958\n",
      "Epoch  0 ..Iter:  2300 / 2795  LOSS:  0.2574267089366913\n",
      "Epoch  0 ..Iter:  2400 / 2795  LOSS:  0.19868630170822144\n",
      "Epoch  0 ..Iter:  2500 / 2795  LOSS:  0.22360296547412872\n",
      "Epoch  0 ..Iter:  2600 / 2795  LOSS:  0.25689589977264404\n",
      "Epoch  0 ..Iter:  2700 / 2795  LOSS:  0.2592615783214569\n",
      "Epoch  1 ..Iter:  0 / 2795  LOSS:  0.1949186474084854\n",
      "Epoch  1 ..Iter:  100 / 2795  LOSS:  0.267470121383667\n",
      "Epoch  1 ..Iter:  200 / 2795  LOSS:  0.26867640018463135\n",
      "Epoch  1 ..Iter:  300 / 2795  LOSS:  0.22803542017936707\n",
      "Epoch  1 ..Iter:  400 / 2795  LOSS:  0.185678631067276\n",
      "Epoch  1 ..Iter:  500 / 2795  LOSS:  0.20806454122066498\n",
      "Epoch  1 ..Iter:  600 / 2795  LOSS:  0.2410699427127838\n",
      "Epoch  1 ..Iter:  700 / 2795  LOSS:  0.2544592320919037\n",
      "Epoch  1 ..Iter:  800 / 2795  LOSS:  0.19174659252166748\n",
      "Epoch  1 ..Iter:  900 / 2795  LOSS:  0.308937668800354\n",
      "Epoch  1 ..Iter:  1000 / 2795  LOSS:  0.26581937074661255\n",
      "Epoch  1 ..Iter:  1100 / 2795  LOSS:  0.19969776272773743\n",
      "Epoch  1 ..Iter:  1200 / 2795  LOSS:  0.24643681943416595\n",
      "Epoch  1 ..Iter:  1300 / 2795  LOSS:  0.1596142053604126\n",
      "Epoch  1 ..Iter:  1400 / 2795  LOSS:  0.24216149747371674\n",
      "Epoch  1 ..Iter:  1500 / 2795  LOSS:  0.18945720791816711\n",
      "Epoch  1 ..Iter:  1600 / 2795  LOSS:  0.21983081102371216\n",
      "Epoch  1 ..Iter:  1700 / 2795  LOSS:  0.26071444153785706\n",
      "Epoch  1 ..Iter:  1800 / 2795  LOSS:  0.19996273517608643\n",
      "Epoch  1 ..Iter:  1900 / 2795  LOSS:  0.3104802072048187\n",
      "Epoch  1 ..Iter:  2000 / 2795  LOSS:  0.23205351829528809\n",
      "Epoch  1 ..Iter:  2100 / 2795  LOSS:  0.20188182592391968\n",
      "Epoch  1 ..Iter:  2200 / 2795  LOSS:  0.1759786307811737\n",
      "Epoch  1 ..Iter:  2300 / 2795  LOSS:  0.26280295848846436\n",
      "Epoch  1 ..Iter:  2400 / 2795  LOSS:  0.18777236342430115\n",
      "Epoch  1 ..Iter:  2500 / 2795  LOSS:  0.2238835096359253\n",
      "Epoch  1 ..Iter:  2600 / 2795  LOSS:  0.2586381733417511\n",
      "Epoch  1 ..Iter:  2700 / 2795  LOSS:  0.2528730630874634\n",
      "Epoch  2 ..Iter:  0 / 2795  LOSS:  0.19010137021541595\n",
      "Epoch  2 ..Iter:  100 / 2795  LOSS:  0.26051241159439087\n",
      "Epoch  2 ..Iter:  200 / 2795  LOSS:  0.2666512429714203\n",
      "Epoch  2 ..Iter:  300 / 2795  LOSS:  0.23007693886756897\n",
      "Epoch  2 ..Iter:  400 / 2795  LOSS:  0.1864113211631775\n",
      "Epoch  2 ..Iter:  500 / 2795  LOSS:  0.2070845067501068\n",
      "Epoch  2 ..Iter:  600 / 2795  LOSS:  0.23946666717529297\n",
      "Epoch  2 ..Iter:  700 / 2795  LOSS:  0.25249478220939636\n",
      "Epoch  2 ..Iter:  800 / 2795  LOSS:  0.18840962648391724\n",
      "Epoch  2 ..Iter:  900 / 2795  LOSS:  0.3068256676197052\n",
      "Epoch  2 ..Iter:  1000 / 2795  LOSS:  0.2637878358364105\n",
      "Epoch  2 ..Iter:  1100 / 2795  LOSS:  0.20007283985614777\n",
      "Epoch  2 ..Iter:  1200 / 2795  LOSS:  0.24450433254241943\n",
      "Epoch  2 ..Iter:  1300 / 2795  LOSS:  0.16018792986869812\n",
      "Epoch  2 ..Iter:  1400 / 2795  LOSS:  0.24402949213981628\n",
      "Epoch  2 ..Iter:  1500 / 2795  LOSS:  0.18870753049850464\n",
      "Epoch  2 ..Iter:  1600 / 2795  LOSS:  0.22153513133525848\n",
      "Epoch  2 ..Iter:  1700 / 2795  LOSS:  0.2584671378135681\n",
      "Epoch  2 ..Iter:  1800 / 2795  LOSS:  0.19951879978179932\n",
      "Epoch  2 ..Iter:  1900 / 2795  LOSS:  0.3123084306716919\n",
      "Epoch  2 ..Iter:  2000 / 2795  LOSS:  0.23122072219848633\n",
      "Epoch  2 ..Iter:  2100 / 2795  LOSS:  0.2012740969657898\n",
      "Epoch  2 ..Iter:  2200 / 2795  LOSS:  0.17613928020000458\n",
      "Epoch  2 ..Iter:  2300 / 2795  LOSS:  0.2645817697048187\n",
      "Epoch  2 ..Iter:  2400 / 2795  LOSS:  0.18624228239059448\n",
      "Epoch  2 ..Iter:  2500 / 2795  LOSS:  0.22348475456237793\n",
      "Epoch  2 ..Iter:  2600 / 2795  LOSS:  0.2591056823730469\n",
      "Epoch  2 ..Iter:  2700 / 2795  LOSS:  0.2527407705783844\n"
     ]
    }
   ],
   "source": [
    "n_total_step=len(train_loader)\n",
    "for epoch in range(num_epochs):\n",
    "    for i, (feat,labels) in enumerate(train_loader):\n",
    "\n",
    "        feat=feat.to(device)\n",
    "        labels=labels.reshape(-1,1)\n",
    "        labels=labels.to(device)\n",
    "        #forward\n",
    "        outputs=model(feat)\n",
    "        loss=criterion(outputs,labels)\n",
    "        #backward\n",
    "        loss.backward()\n",
    "        optimizer.step()\n",
    "        optimizer.zero_grad()\n",
    "        \n",
    "        if i%100 == 0:\n",
    "            print('Epoch ',epoch,'..Iter: ',i,'/',n_total_step,' LOSS: ',loss.item())"
   ]
  },
  {
   "attachments": {},
   "cell_type": "markdown",
   "metadata": {},
   "source": [
    "Saving weights"
   ]
  },
  {
   "cell_type": "code",
   "execution_count": 7,
   "metadata": {},
   "outputs": [],
   "source": [
    "torch.save(model.state_dict(), 'tmp.pth')"
   ]
  },
  {
   "attachments": {},
   "cell_type": "markdown",
   "metadata": {},
   "source": [
    "Loading weights"
   ]
  },
  {
   "cell_type": "code",
   "execution_count": 12,
   "metadata": {},
   "outputs": [
    {
     "data": {
      "text/plain": [
       "NoRELU(\n",
       "  (l1): Linear(in_features=18, out_features=16, bias=True)\n",
       "  (l2): Linear(in_features=16, out_features=1, bias=True)\n",
       ")"
      ]
     },
     "execution_count": 12,
     "metadata": {},
     "output_type": "execute_result"
    }
   ],
   "source": [
    "model = NoRELU(input_size,hidden_size)\n",
    "model.load_state_dict(torch.load('tmp.pth'))\n",
    "model.eval()"
   ]
  },
  {
   "attachments": {},
   "cell_type": "markdown",
   "metadata": {},
   "source": [
    "# Testing"
   ]
  },
  {
   "cell_type": "code",
   "execution_count": 15,
   "metadata": {},
   "outputs": [
    {
     "name": "stderr",
     "output_type": "stream",
     "text": [
      "C:\\Users\\ACER\\AppData\\Local\\Temp/ipykernel_21116/4184373153.py:21: FutureWarning: The input object of type 'Tensor' is an array-like implementing one of the corresponding protocols (`__array__`, `__array_interface__` or `__array_struct__`); but not a sequence (or 0-D). In the future, this object will be coerced as if it was first converted using `np.array(obj)`. To retain the old behaviour, you have to either modify the type 'Tensor', or assign to an empty array created with `np.empty(correct_shape, dtype=object)`.\n",
      "  rst=torch.from_numpy(np.array(rst,dtype=np.float32))\n",
      "C:\\Users\\ACER\\AppData\\Local\\Temp/ipykernel_21116/4184373153.py:21: DeprecationWarning: setting an array element with a sequence. This was supported in some cases where the elements are arrays with a single element. For example `np.array([1, np.array([2])], dtype=int)`. In the future this will raise the same ValueError as `np.array([1, [2]], dtype=int)`.\n",
      "  rst=torch.from_numpy(np.array(rst,dtype=np.float32))\n"
     ]
    },
    {
     "name": "stdout",
     "output_type": "stream",
     "text": [
      "-------ACC:  90.7695541381836\n",
      "-------F1 score:  42.28023658984295\n",
      "-------Pr score:  62.166376776824805\n",
      "-------Re score:  32.03325400995148\n"
     ]
    }
   ],
   "source": [
    "with torch.no_grad():\n",
    "    n_correct=0\n",
    "    n_samples=0\n",
    "    vec_true=[]\n",
    "    vec_pred=[]\n",
    "    \n",
    "    for i, (feat,labels) in enumerate(test_loader):\n",
    "        \n",
    "        #forward\n",
    "        feat=feat.to(device)\n",
    "        labels=labels.reshape(-1,1)\n",
    "        vec_true+=labels\n",
    "        labels=labels.to(device)\n",
    "        outputs=model(feat)\n",
    "        \n",
    "        #result\n",
    "        rst=[]\n",
    "        for tsr in outputs:\n",
    "            rst.append(tsr.round())\n",
    "        vec_pred+=rst\n",
    "        rst=torch.from_numpy(np.array(rst,dtype=np.float32))\n",
    "        n_samples+=labels.shape[0]\n",
    "        for i in range(labels.shape[0]):\n",
    "            n_correct+=(labels[i]==rst[i])\n",
    "\n",
    "    acc=100 * (n_correct)/n_samples\n",
    "    print('-------ACC: ',float(acc))\n",
    "    # Separate obj independently to avoid ERROR\n",
    "    tmp=[]\n",
    "    for tt in vec_true:\n",
    "        tmp.append(float(tt))\n",
    "    vec_true=np.array(tmp)\n",
    "    tmp=[]\n",
    "    for tt in vec_pred:\n",
    "        tmp.append(float(tt))\n",
    "    vec_pred=np.array(tmp)\n",
    "    print('-------F1 score: ', f1_score(vec_true,vec_pred)*100)\n",
    "    print('-------Pr score: ', precision_score(vec_true,vec_pred)*100)\n",
    "    print('-------Re score: ', recall_score(vec_true,vec_pred)*100)"
   ]
  }
 ],
 "metadata": {
  "kernelspec": {
   "display_name": "Python 3",
   "language": "python",
   "name": "python3"
  },
  "language_info": {
   "codemirror_mode": {
    "name": "ipython",
    "version": 3
   },
   "file_extension": ".py",
   "mimetype": "text/x-python",
   "name": "python",
   "nbconvert_exporter": "python",
   "pygments_lexer": "ipython3",
   "version": "3.10.1"
  },
  "orig_nbformat": 4,
  "vscode": {
   "interpreter": {
    "hash": "840baa4c7b1344b918e258b3ed5411f71588a91c20741665e64037285e2d4a52"
   }
  }
 },
 "nbformat": 4,
 "nbformat_minor": 2
}
